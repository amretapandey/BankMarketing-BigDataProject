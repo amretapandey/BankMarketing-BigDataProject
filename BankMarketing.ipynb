{
  "nbformat": 4,
  "nbformat_minor": 0,
  "metadata": {
    "colab": {
      "name": "BankMarketing.ipynb",
      "provenance": [],
      "authorship_tag": "ABX9TyOGYYkouXNGwaNKT2QvaGtV",
      "include_colab_link": true
    },
    "kernelspec": {
      "name": "python3",
      "display_name": "Python 3"
    },
    "language_info": {
      "name": "python"
    }
  },
  "cells": [
    {
      "cell_type": "markdown",
      "metadata": {
        "id": "view-in-github",
        "colab_type": "text"
      },
      "source": [
        "<a href=\"https://colab.research.google.com/github/amretapandey/BankMarketing-BigDataProject/blob/main/BankMarketing.ipynb\" target=\"_parent\"><img src=\"https://colab.research.google.com/assets/colab-badge.svg\" alt=\"Open In Colab\"/></a>"
      ]
    },
    {
      "cell_type": "markdown",
      "source": [
        "# **PROBLEM STATEMENT**\n",
        "\n",
        "A bank wants to identify prospects it can target in its marketing campaign. It has received prospect data from various internal and 3rd party sources. The data has various issues such as missing or unknown values in certain fields. The data needs to be cleansed before analysis. \n",
        "\n",
        "Using Big Data Hadoop and Spark technology cleanse, transform and analyze this data.\n",
        "\n"
      ],
      "metadata": {
        "id": "7xSIiyx55lEL"
      }
    },
    {
      "cell_type": "code",
      "execution_count": null,
      "metadata": {
        "id": "1DEkmRT-9udX"
      },
      "outputs": [],
      "source": [
        "# Install JDK, Spark and Set Environment Variables to Create a Spark Session\n",
        "!wget https://dlcdn.apache.org/spark/spark-3.1.3/spark-3.1.3-bin-hadoop3.2.tgz\n",
        "!tar -xvf spark-3.1.3-bin-hadoop3.2.tgz\n",
        "import os\n",
        "os.environ[\"JAVA_HOME\"] = \"/usr/lib/jvm/java-11-openjdk-amd64\"\n",
        "os.environ[\"SPARK_HOME\"] = \"/content/spark-3.1.3-bin-hadoop3.2\"\n",
        "!pip install findspark\n",
        "import findspark\n",
        "findspark.init()\n",
        "from pyspark.sql import SparkSession\n",
        "spark = SparkSession.builder.master(\"local[*]\").getOrCreate()"
      ]
    },
    {
      "cell_type": "code",
      "source": [
        "# Copy bank prospects data\n",
        "!wget https://raw.githubusercontent.com/amretapandey/BankMarketing-BigDataProject/main/pySpark-Project/bank_prospects.csv"
      ],
      "metadata": {
        "id": "EnWs-C-R6wiB"
      },
      "execution_count": null,
      "outputs": []
    },
    {
      "cell_type": "code",
      "source": [
        "# Create a dataframe from the csv file\n",
        "bankProspectsDF = spark.read.csv(\"bank_prospects.csv\",header=True)"
      ],
      "metadata": {
        "id": "4vj1jE5--CYS"
      },
      "execution_count": 19,
      "outputs": []
    },
    {
      "cell_type": "code",
      "source": [
        "bankProspectsDF.show()"
      ],
      "metadata": {
        "colab": {
          "base_uri": "https://localhost:8080/"
        },
        "id": "d9U6Y4OtEM3E",
        "outputId": "f8949d12-5558-47e9-cb97-dc18d54f3987"
      },
      "execution_count": 20,
      "outputs": [
        {
          "output_type": "stream",
          "name": "stdout",
          "text": [
            "+----+------+------+-------+---------+\n",
            "| Age|Salary|Gender|Country|Purchased|\n",
            "+----+------+------+-------+---------+\n",
            "|  18| 20000|  Male|Germany|        N|\n",
            "|  19| 22000|Female| France|        N|\n",
            "|  20| 24000|Female|England|        N|\n",
            "|  21|  null|  Male|England|        N|\n",
            "|  22| 50000|  Male| France|        Y|\n",
            "|  23| 35000|Female|England|        N|\n",
            "|  24|  null|  Male|Germany|        N|\n",
            "|  25| 32000|Female| France|        Y|\n",
            "|null| 35000|  Male|Germany|        N|\n",
            "|  27| 37000|Female| France|        N|\n",
            "|  27| 37000|Female|unknown|        N|\n",
            "+----+------+------+-------+---------+\n",
            "\n"
          ]
        }
      ]
    },
    {
      "cell_type": "code",
      "source": [
        "bankProspectsDF.printSchema()"
      ],
      "metadata": {
        "colab": {
          "base_uri": "https://localhost:8080/"
        },
        "id": "nel1p2kXAN9Y",
        "outputId": "b99c7a68-66f6-4053-aa69-f06c30a5aba0"
      },
      "execution_count": 12,
      "outputs": [
        {
          "output_type": "stream",
          "name": "stdout",
          "text": [
            "root\n",
            " |-- Age: string (nullable = true)\n",
            " |-- Salary: string (nullable = true)\n",
            " |-- Gender: string (nullable = true)\n",
            " |-- Country: string (nullable = true)\n",
            " |-- Purchased: string (nullable = true)\n",
            "\n"
          ]
        }
      ]
    },
    {
      "cell_type": "markdown",
      "source": [
        "<br>\n",
        "\n",
        "**1. Change the schema of the dataframe**"
      ],
      "metadata": {
        "id": "720h-485AyLR"
      }
    },
    {
      "cell_type": "code",
      "source": [
        "from pyspark.sql.types import IntegerType, FloatType\n",
        "from pyspark.sql.functions import col\n",
        "\n",
        "bankProspectsDF1 = bankProspectsDF.withColumn(\"Age\", col(\"Age\").cast(IntegerType())).withColumn(\"Salary\", col(\"Salary\").cast(FloatType()))\n",
        "bankProspectsDF1.printSchema()"
      ],
      "metadata": {
        "colab": {
          "base_uri": "https://localhost:8080/"
        },
        "id": "edG5lVd0BBPr",
        "outputId": "5bbbdae0-48aa-408e-8ffc-5a0b2eb61f54"
      },
      "execution_count": 37,
      "outputs": [
        {
          "output_type": "stream",
          "name": "stdout",
          "text": [
            "root\n",
            " |-- Age: integer (nullable = true)\n",
            " |-- Salary: float (nullable = true)\n",
            " |-- Gender: string (nullable = true)\n",
            " |-- Country: string (nullable = true)\n",
            " |-- Purchased: string (nullable = true)\n",
            "\n"
          ]
        }
      ]
    },
    {
      "cell_type": "markdown",
      "source": [
        "<br>\n",
        "\n",
        "**2. Remove tuples with unknown in Country attribute**\n",
        "\n",
        "\n"
      ],
      "metadata": {
        "id": "Aq8k462e_Zgb"
      }
    },
    {
      "cell_type": "code",
      "source": [
        "bankProspectsDF2 = bankProspectsDF1.filter('Country != \"unknown\"')\n",
        "bankProspectsDF2.show()"
      ],
      "metadata": {
        "colab": {
          "base_uri": "https://localhost:8080/"
        },
        "id": "38Ug45IR-hYr",
        "outputId": "8a978b72-713a-4ca1-a384-cab6fcf2c347"
      },
      "execution_count": 38,
      "outputs": [
        {
          "output_type": "stream",
          "name": "stdout",
          "text": [
            "+----+-------+------+-------+---------+\n",
            "| Age| Salary|Gender|Country|Purchased|\n",
            "+----+-------+------+-------+---------+\n",
            "|  18|20000.0|  Male|Germany|        N|\n",
            "|  19|22000.0|Female| France|        N|\n",
            "|  20|24000.0|Female|England|        N|\n",
            "|  21|   null|  Male|England|        N|\n",
            "|  22|50000.0|  Male| France|        Y|\n",
            "|  23|35000.0|Female|England|        N|\n",
            "|  24|   null|  Male|Germany|        N|\n",
            "|  25|32000.0|Female| France|        Y|\n",
            "|null|35000.0|  Male|Germany|        N|\n",
            "|  27|37000.0|Female| France|        N|\n",
            "+----+-------+------+-------+---------+\n",
            "\n"
          ]
        }
      ]
    },
    {
      "cell_type": "markdown",
      "source": [
        "<br>\n",
        "\n",
        "**3. Replace missing Age values with average age**"
      ],
      "metadata": {
        "id": "7UyD1FPHE4wV"
      }
    },
    {
      "cell_type": "code",
      "source": [
        "from pyspark.sql.functions import mean\n",
        "\n",
        "avgAge = bankProspectsDF2.select(mean(\"Age\")).collect()[0][0]\n",
        "print(avgAge)"
      ],
      "metadata": {
        "colab": {
          "base_uri": "https://localhost:8080/"
        },
        "id": "jmwkBxgg_7Zx",
        "outputId": "a6c70f1f-18e8-4619-dea2-6344e40bab69"
      },
      "execution_count": 39,
      "outputs": [
        {
          "output_type": "stream",
          "name": "stdout",
          "text": [
            "22.11111111111111\n"
          ]
        }
      ]
    },
    {
      "cell_type": "code",
      "source": [
        "bankProspectsDF3 = bankProspectsDF2.na.fill(avgAge, \"Age\")\n",
        "bankProspectsDF3.show()"
      ],
      "metadata": {
        "colab": {
          "base_uri": "https://localhost:8080/"
        },
        "id": "bqzqwdZmFdJS",
        "outputId": "5c8f97ba-51e9-4a9f-be90-015507ae2904"
      },
      "execution_count": 44,
      "outputs": [
        {
          "output_type": "stream",
          "name": "stdout",
          "text": [
            "+---+-------+------+-------+---------+\n",
            "|Age| Salary|Gender|Country|Purchased|\n",
            "+---+-------+------+-------+---------+\n",
            "| 18|20000.0|  Male|Germany|        N|\n",
            "| 19|22000.0|Female| France|        N|\n",
            "| 20|24000.0|Female|England|        N|\n",
            "| 21|   null|  Male|England|        N|\n",
            "| 22|50000.0|  Male| France|        Y|\n",
            "| 23|35000.0|Female|England|        N|\n",
            "| 24|   null|  Male|Germany|        N|\n",
            "| 25|32000.0|Female| France|        Y|\n",
            "| 22|35000.0|  Male|Germany|        N|\n",
            "| 27|37000.0|Female| France|        N|\n",
            "+---+-------+------+-------+---------+\n",
            "\n"
          ]
        }
      ]
    },
    {
      "cell_type": "markdown",
      "source": [
        "<br>\n",
        "\n",
        "**4. Replace missing Salary values with average salary**"
      ],
      "metadata": {
        "id": "ukJ8UT3eHybd"
      }
    },
    {
      "cell_type": "code",
      "source": [
        "avgSalary = bankProspectsDF3.select(mean(\"Salary\")).collect()[0][0]\n",
        "print(avgSalary)"
      ],
      "metadata": {
        "colab": {
          "base_uri": "https://localhost:8080/"
        },
        "id": "daJfZpocHBfl",
        "outputId": "1a30c44b-765b-42c7-aa86-7e78505d3803"
      },
      "execution_count": 45,
      "outputs": [
        {
          "output_type": "stream",
          "name": "stdout",
          "text": [
            "31875.0\n"
          ]
        }
      ]
    },
    {
      "cell_type": "code",
      "source": [
        "bankProspectsDF4 = bankProspectsDF3.na.fill(avgSalary, \"Salary\")\n",
        "bankProspectsDF4.show()"
      ],
      "metadata": {
        "colab": {
          "base_uri": "https://localhost:8080/"
        },
        "id": "ZB84KLd3IG-Z",
        "outputId": "eb919885-afa0-4a1b-ff77-c0b449ab7a80"
      },
      "execution_count": 47,
      "outputs": [
        {
          "output_type": "stream",
          "name": "stdout",
          "text": [
            "+---+-------+------+-------+---------+\n",
            "|Age| Salary|Gender|Country|Purchased|\n",
            "+---+-------+------+-------+---------+\n",
            "| 18|20000.0|  Male|Germany|        N|\n",
            "| 19|22000.0|Female| France|        N|\n",
            "| 20|24000.0|Female|England|        N|\n",
            "| 21|31875.0|  Male|England|        N|\n",
            "| 22|50000.0|  Male| France|        Y|\n",
            "| 23|35000.0|Female|England|        N|\n",
            "| 24|31875.0|  Male|Germany|        N|\n",
            "| 25|32000.0|Female| France|        Y|\n",
            "| 22|35000.0|  Male|Germany|        N|\n",
            "| 27|37000.0|Female| France|        N|\n",
            "+---+-------+------+-------+---------+\n",
            "\n"
          ]
        }
      ]
    },
    {
      "cell_type": "code",
      "source": [
        "bankProspectsDF4.write.format(\"csv\").save(\"bank_prospects-transformed\")"
      ],
      "metadata": {
        "id": "YT2QMbIrISCg"
      },
      "execution_count": 57,
      "outputs": []
    },
    {
      "cell_type": "code",
      "source": [
        "!ls bank_prospects-transformed"
      ],
      "metadata": {
        "colab": {
          "base_uri": "https://localhost:8080/"
        },
        "id": "12WLkVpvJnpy",
        "outputId": "7e1adbbd-6e65-4806-bd69-17b4866da4b8"
      },
      "execution_count": 58,
      "outputs": [
        {
          "output_type": "stream",
          "name": "stdout",
          "text": [
            "part-00000-08a9b01f-8ac1-42bf-a323-d28b7075b385-c000.csv  _SUCCESS\n"
          ]
        }
      ]
    },
    {
      "cell_type": "code",
      "source": [
        "!cat bank_prospects-transformed/part-00000-08a9b01f-8ac1-42bf-a323-d28b7075b385-c000.csv"
      ],
      "metadata": {
        "colab": {
          "base_uri": "https://localhost:8080/"
        },
        "id": "jnbYKsJbKYy9",
        "outputId": "d071266d-f507-4abb-8003-cddbbef1e982"
      },
      "execution_count": 59,
      "outputs": [
        {
          "output_type": "stream",
          "name": "stdout",
          "text": [
            "18,20000.0,Male,Germany,N\n",
            "19,22000.0,Female,France,N\n",
            "20,24000.0,Female,England,N\n",
            "21,31875.0,Male,England,N\n",
            "22,50000.0,Male,France,Y\n",
            "23,35000.0,Female,England,N\n",
            "24,31875.0,Male,Germany,N\n",
            "25,32000.0,Female,France,Y\n",
            "22,35000.0,Male,Germany,N\n",
            "27,37000.0,Female,France,N\n"
          ]
        }
      ]
    }
  ]
}